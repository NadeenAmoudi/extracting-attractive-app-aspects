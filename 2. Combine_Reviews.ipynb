{
 "cells": [
  {
   "cell_type": "code",
   "execution_count": 1,
   "metadata": {},
   "outputs": [],
   "source": [
    "import os\n",
    "import glob\n",
    "import pandas as pd"
   ]
  },
  {
   "cell_type": "code",
   "execution_count": 2,
   "metadata": {},
   "outputs": [],
   "source": [
    "extension = 'csv'\n",
    "all_filenames = [i for i in glob.glob('*.{}'.format(extension))]"
   ]
  },
  {
   "cell_type": "code",
   "execution_count": 3,
   "metadata": {},
   "outputs": [],
   "source": [
    "#combine all files in the list\n",
    "combined_csv = pd.concat([pd.read_csv(f) for f in all_filenames ])\n",
    "#export to csv\n",
    "combined_csv.to_csv( \"combined_reviews.csv\", index=False, encoding='utf-8-sig')"
   ]
  },
  {
   "cell_type": "code",
   "execution_count": 4,
   "metadata": {},
   "outputs": [
    {
     "data": {
      "text/plain": [
       "10937"
      ]
     },
     "execution_count": 4,
     "metadata": {},
     "output_type": "execute_result"
    }
   ],
   "source": [
    "len(combined_csv)"
   ]
  },
  {
   "cell_type": "code",
   "execution_count": 16,
   "metadata": {},
   "outputs": [],
   "source": [
    "dataHS = pd.read_csv('hungerstation.csv')\n",
    "dataFrameHS = pd.DataFrame(dataHS, columns=['app_name','app_id', 'date', 'title', 'review', 'rating'])\n",
    "\n",
    "dataJahez = pd.read_csv('jahez.csv')\n",
    "dataFrameJahez = pd.DataFrame(dataJahez, columns=['app_name','app_id', 'date', 'title', 'review', 'rating'])\n",
    "\n",
    "dataToYou = pd.read_csv('toyou.csv')\n",
    "dataFrameToYou = pd.DataFrame(dataToYou, columns=['app_name','app_id', 'date', 'title', 'review', 'rating'])\n",
    "\n",
    "dataShgardi = pd.read_csv('shgardi.csv')\n",
    "dataFrameShgardi = pd.DataFrame(dataShgardi, columns=['app_name','app_id', 'date', 'title', 'review', 'rating'])\n",
    "\n",
    "dataTheChefz = pd.read_csv('theChefz.csv')\n",
    "dataFrameTheChefz = pd.DataFrame(dataTheChefz, columns=['app_name','app_id', 'date', 'title', 'review', 'rating'])\n",
    "\n",
    "#Replace nan \"missing values\" with empty string\n",
    "# dataFrame[\"affiliation\"].fillna('', inplace = True)\n",
    "\n",
    "# affiliations = dataFrame[\"affiliation\"].str.lower()\n",
    "\n",
    "# affiliations_list = affiliations.tolist()"
   ]
  },
  {
   "cell_type": "code",
   "execution_count": 10,
   "metadata": {},
   "outputs": [
    {
     "data": {
      "text/html": [
       "<div>\n",
       "<style scoped>\n",
       "    .dataframe tbody tr th:only-of-type {\n",
       "        vertical-align: middle;\n",
       "    }\n",
       "\n",
       "    .dataframe tbody tr th {\n",
       "        vertical-align: top;\n",
       "    }\n",
       "\n",
       "    .dataframe thead th {\n",
       "        text-align: right;\n",
       "    }\n",
       "</style>\n",
       "<table border=\"1\" class=\"dataframe\">\n",
       "  <thead>\n",
       "    <tr style=\"text-align: right;\">\n",
       "      <th></th>\n",
       "      <th>app_name</th>\n",
       "      <th>app_id</th>\n",
       "      <th>date</th>\n",
       "      <th>title</th>\n",
       "      <th>review</th>\n",
       "      <th>rating</th>\n",
       "    </tr>\n",
       "  </thead>\n",
       "  <tbody>\n",
       "    <tr>\n",
       "      <th>0</th>\n",
       "      <td>hungerstation</td>\n",
       "      <td>596011949</td>\n",
       "      <td>4/24/2020 17:03</td>\n",
       "      <td>Good app</td>\n",
       "      <td>A very decent app. Does the job pretty well. H...</td>\n",
       "      <td>4</td>\n",
       "    </tr>\n",
       "    <tr>\n",
       "      <th>1</th>\n",
       "      <td>hungerstation</td>\n",
       "      <td>596011949</td>\n",
       "      <td>9/16/2021 15:29</td>\n",
       "      <td>Scam!</td>\n",
       "      <td>I ordered my grocery at 2:15, and the driver w...</td>\n",
       "      <td>1</td>\n",
       "    </tr>\n",
       "    <tr>\n",
       "      <th>2</th>\n",
       "      <td>hungerstation</td>\n",
       "      <td>596011949</td>\n",
       "      <td>7/6/2020 18:47</td>\n",
       "      <td>Liars and worst customer service</td>\n",
       "      <td>I ordered from wakami on March 8 “woman’s day ...</td>\n",
       "      <td>1</td>\n",
       "    </tr>\n",
       "    <tr>\n",
       "      <th>3</th>\n",
       "      <td>hungerstation</td>\n",
       "      <td>596011949</td>\n",
       "      <td>4/12/2020 16:20</td>\n",
       "      <td>I do not recommend</td>\n",
       "      <td>This app has many issues, technical and person...</td>\n",
       "      <td>1</td>\n",
       "    </tr>\n",
       "    <tr>\n",
       "      <th>4</th>\n",
       "      <td>hungerstation</td>\n",
       "      <td>596011949</td>\n",
       "      <td>7/6/2021 12:54</td>\n",
       "      <td>I WANT MY MONY BACK!!</td>\n",
       "      <td>I ordered on the 16th of June and the payment ...</td>\n",
       "      <td>1</td>\n",
       "    </tr>\n",
       "  </tbody>\n",
       "</table>\n",
       "</div>"
      ],
      "text/plain": [
       "        app_name     app_id             date  \\\n",
       "0  hungerstation  596011949  4/24/2020 17:03   \n",
       "1  hungerstation  596011949  9/16/2021 15:29   \n",
       "2  hungerstation  596011949   7/6/2020 18:47   \n",
       "3  hungerstation  596011949  4/12/2020 16:20   \n",
       "4  hungerstation  596011949   7/6/2021 12:54   \n",
       "\n",
       "                              title  \\\n",
       "0                          Good app   \n",
       "1                             Scam!   \n",
       "2  Liars and worst customer service   \n",
       "3                I do not recommend   \n",
       "4             I WANT MY MONY BACK!!   \n",
       "\n",
       "                                              review  rating  \n",
       "0  A very decent app. Does the job pretty well. H...       4  \n",
       "1  I ordered my grocery at 2:15, and the driver w...       1  \n",
       "2  I ordered from wakami on March 8 “woman’s day ...       1  \n",
       "3  This app has many issues, technical and person...       1  \n",
       "4  I ordered on the 16th of June and the payment ...       1  "
      ]
     },
     "execution_count": 10,
     "metadata": {},
     "output_type": "execute_result"
    }
   ],
   "source": [
    "dataFrameHS.head()"
   ]
  },
  {
   "cell_type": "code",
   "execution_count": 12,
   "metadata": {},
   "outputs": [
    {
     "data": {
      "text/html": [
       "<div>\n",
       "<style scoped>\n",
       "    .dataframe tbody tr th:only-of-type {\n",
       "        vertical-align: middle;\n",
       "    }\n",
       "\n",
       "    .dataframe tbody tr th {\n",
       "        vertical-align: top;\n",
       "    }\n",
       "\n",
       "    .dataframe thead th {\n",
       "        text-align: right;\n",
       "    }\n",
       "</style>\n",
       "<table border=\"1\" class=\"dataframe\">\n",
       "  <thead>\n",
       "    <tr style=\"text-align: right;\">\n",
       "      <th></th>\n",
       "      <th>app_name</th>\n",
       "      <th>app_id</th>\n",
       "      <th>date</th>\n",
       "      <th>title</th>\n",
       "      <th>review</th>\n",
       "      <th>rating</th>\n",
       "    </tr>\n",
       "  </thead>\n",
       "  <tbody>\n",
       "    <tr>\n",
       "      <th>0</th>\n",
       "      <td>jahez</td>\n",
       "      <td>1137352156</td>\n",
       "      <td>6/15/2020 17:41</td>\n",
       "      <td>My feedback</td>\n",
       "      <td>First time using this app and honestly it was ...</td>\n",
       "      <td>5</td>\n",
       "    </tr>\n",
       "    <tr>\n",
       "      <th>1</th>\n",
       "      <td>jahez</td>\n",
       "      <td>1137352156</td>\n",
       "      <td>2/19/2021 5:39</td>\n",
       "      <td>No response for customers no cancellations لا ...</td>\n",
       "      <td>They don’t respond to help the customer either...</td>\n",
       "      <td>2</td>\n",
       "    </tr>\n",
       "    <tr>\n",
       "      <th>2</th>\n",
       "      <td>jahez</td>\n",
       "      <td>1137352156</td>\n",
       "      <td>7/23/2020 12:22</td>\n",
       "      <td>Good fast delivery but lack of support</td>\n",
       "      <td>Jahez offers fast delivery but this company se...</td>\n",
       "      <td>4</td>\n",
       "    </tr>\n",
       "    <tr>\n",
       "      <th>3</th>\n",
       "      <td>jahez</td>\n",
       "      <td>1137352156</td>\n",
       "      <td>9/29/2021 18:29</td>\n",
       "      <td>Not Great</td>\n",
       "      <td>Once I ordered and paid for the meal, it then ...</td>\n",
       "      <td>1</td>\n",
       "    </tr>\n",
       "    <tr>\n",
       "      <th>4</th>\n",
       "      <td>jahez</td>\n",
       "      <td>1137352156</td>\n",
       "      <td>12/8/2020 4:08</td>\n",
       "      <td>I love the feeling of not being disappointed</td>\n",
       "      <td>Definitely the best compared to the many other...</td>\n",
       "      <td>5</td>\n",
       "    </tr>\n",
       "  </tbody>\n",
       "</table>\n",
       "</div>"
      ],
      "text/plain": [
       "  app_name      app_id             date  \\\n",
       "0    jahez  1137352156  6/15/2020 17:41   \n",
       "1    jahez  1137352156   2/19/2021 5:39   \n",
       "2    jahez  1137352156  7/23/2020 12:22   \n",
       "3    jahez  1137352156  9/29/2021 18:29   \n",
       "4    jahez  1137352156   12/8/2020 4:08   \n",
       "\n",
       "                                               title  \\\n",
       "0                                        My feedback   \n",
       "1  No response for customers no cancellations لا ...   \n",
       "2             Good fast delivery but lack of support   \n",
       "3                                          Not Great   \n",
       "4       I love the feeling of not being disappointed   \n",
       "\n",
       "                                              review  rating  \n",
       "0  First time using this app and honestly it was ...       5  \n",
       "1  They don’t respond to help the customer either...       2  \n",
       "2  Jahez offers fast delivery but this company se...       4  \n",
       "3  Once I ordered and paid for the meal, it then ...       1  \n",
       "4  Definitely the best compared to the many other...       5  "
      ]
     },
     "execution_count": 12,
     "metadata": {},
     "output_type": "execute_result"
    }
   ],
   "source": [
    "dataFrameJahez.head()"
   ]
  },
  {
   "cell_type": "code",
   "execution_count": 24,
   "metadata": {},
   "outputs": [
    {
     "data": {
      "text/html": [
       "<div>\n",
       "<style scoped>\n",
       "    .dataframe tbody tr th:only-of-type {\n",
       "        vertical-align: middle;\n",
       "    }\n",
       "\n",
       "    .dataframe tbody tr th {\n",
       "        vertical-align: top;\n",
       "    }\n",
       "\n",
       "    .dataframe thead th {\n",
       "        text-align: right;\n",
       "    }\n",
       "</style>\n",
       "<table border=\"1\" class=\"dataframe\">\n",
       "  <thead>\n",
       "    <tr style=\"text-align: right;\">\n",
       "      <th></th>\n",
       "      <th>app_name</th>\n",
       "      <th>app_id</th>\n",
       "      <th>date</th>\n",
       "      <th>title</th>\n",
       "      <th>review</th>\n",
       "      <th>rating</th>\n",
       "    </tr>\n",
       "  </thead>\n",
       "  <tbody>\n",
       "    <tr>\n",
       "      <th>0</th>\n",
       "      <td>theChefz</td>\n",
       "      <td>1139450244</td>\n",
       "      <td>2020-08-01 23:00:59</td>\n",
       "      <td>‌late night cravings for food ​  ​</td>\n",
       "      <td>‍  ‌What makes the Chefz app different from ot...</td>\n",
       "      <td>5</td>\n",
       "    </tr>\n",
       "    <tr>\n",
       "      <th>1</th>\n",
       "      <td>theChefz</td>\n",
       "      <td>1139450244</td>\n",
       "      <td>2020-07-31 02:32:37</td>\n",
       "      <td>Tracking live Orders    ​</td>\n",
       "      <td>‍What makes the Chefz app different from oth...</td>\n",
       "      <td>5</td>\n",
       "    </tr>\n",
       "    <tr>\n",
       "      <th>2</th>\n",
       "      <td>theChefz</td>\n",
       "      <td>1139450244</td>\n",
       "      <td>2020-08-01 02:51:48</td>\n",
       "      <td>Online order tracking ‍</td>\n",
       "      <td>‌ It is quite easy to connect with the deliv...</td>\n",
       "      <td>5</td>\n",
       "    </tr>\n",
       "    <tr>\n",
       "      <th>3</th>\n",
       "      <td>theChefz</td>\n",
       "      <td>1139450244</td>\n",
       "      <td>2020-07-30 02:21:40</td>\n",
       "      <td>pay instantly on delivery or later‍    ‍</td>\n",
       "      <td>‍If you are a food lover and love to browse d...</td>\n",
       "      <td>5</td>\n",
       "    </tr>\n",
       "    <tr>\n",
       "      <th>4</th>\n",
       "      <td>theChefz</td>\n",
       "      <td>1139450244</td>\n",
       "      <td>2020-08-03 02:41:02</td>\n",
       "      <td>food from restaurants you desire  ‌</td>\n",
       "      <td>‍ ‌It is quite easy to connect with the deliv...</td>\n",
       "      <td>5</td>\n",
       "    </tr>\n",
       "  </tbody>\n",
       "</table>\n",
       "</div>"
      ],
      "text/plain": [
       "   app_name      app_id                 date  \\\n",
       "0  theChefz  1139450244  2020-08-01 23:00:59   \n",
       "1  theChefz  1139450244  2020-07-31 02:32:37   \n",
       "2  theChefz  1139450244  2020-08-01 02:51:48   \n",
       "3  theChefz  1139450244  2020-07-30 02:21:40   \n",
       "4  theChefz  1139450244  2020-08-03 02:41:02   \n",
       "\n",
       "                                       title  \\\n",
       "0       ‌late night cravings for food ​  ​     \n",
       "1                Tracking live Orders    ​     \n",
       "2                Online order tracking ‍       \n",
       "3   pay instantly on delivery or later‍    ‍   \n",
       "4     food from restaurants you desire  ‌      \n",
       "\n",
       "                                              review  rating  \n",
       "0  ‍  ‌What makes the Chefz app different from ot...       5  \n",
       "1    ‍What makes the Chefz app different from oth...       5  \n",
       "2    ‌ It is quite easy to connect with the deliv...       5  \n",
       "3   ‍If you are a food lover and love to browse d...       5  \n",
       "4   ‍ ‌It is quite easy to connect with the deliv...       5  "
      ]
     },
     "execution_count": 24,
     "metadata": {},
     "output_type": "execute_result"
    }
   ],
   "source": [
    "dataFrameTheChefz.head()"
   ]
  },
  {
   "cell_type": "code",
   "execution_count": 25,
   "metadata": {},
   "outputs": [],
   "source": [
    "combined_reviews = pd.concat([dataFrameHS, dataFrameJahez, dataFrameToYou, dataFrameShgardi, dataFrameTheChefz], axis=0)"
   ]
  },
  {
   "cell_type": "code",
   "execution_count": 26,
   "metadata": {},
   "outputs": [
    {
     "data": {
      "text/html": [
       "<div>\n",
       "<style scoped>\n",
       "    .dataframe tbody tr th:only-of-type {\n",
       "        vertical-align: middle;\n",
       "    }\n",
       "\n",
       "    .dataframe tbody tr th {\n",
       "        vertical-align: top;\n",
       "    }\n",
       "\n",
       "    .dataframe thead th {\n",
       "        text-align: right;\n",
       "    }\n",
       "</style>\n",
       "<table border=\"1\" class=\"dataframe\">\n",
       "  <thead>\n",
       "    <tr style=\"text-align: right;\">\n",
       "      <th></th>\n",
       "      <th>app_name</th>\n",
       "      <th>app_id</th>\n",
       "      <th>date</th>\n",
       "      <th>title</th>\n",
       "      <th>review</th>\n",
       "      <th>rating</th>\n",
       "    </tr>\n",
       "  </thead>\n",
       "  <tbody>\n",
       "    <tr>\n",
       "      <th>0</th>\n",
       "      <td>hungerstation</td>\n",
       "      <td>596011949</td>\n",
       "      <td>4/24/2020 17:03</td>\n",
       "      <td>Good app</td>\n",
       "      <td>A very decent app. Does the job pretty well. H...</td>\n",
       "      <td>4</td>\n",
       "    </tr>\n",
       "    <tr>\n",
       "      <th>1</th>\n",
       "      <td>hungerstation</td>\n",
       "      <td>596011949</td>\n",
       "      <td>9/16/2021 15:29</td>\n",
       "      <td>Scam!</td>\n",
       "      <td>I ordered my grocery at 2:15, and the driver w...</td>\n",
       "      <td>1</td>\n",
       "    </tr>\n",
       "    <tr>\n",
       "      <th>2</th>\n",
       "      <td>hungerstation</td>\n",
       "      <td>596011949</td>\n",
       "      <td>7/6/2020 18:47</td>\n",
       "      <td>Liars and worst customer service</td>\n",
       "      <td>I ordered from wakami on March 8 “woman’s day ...</td>\n",
       "      <td>1</td>\n",
       "    </tr>\n",
       "    <tr>\n",
       "      <th>3</th>\n",
       "      <td>hungerstation</td>\n",
       "      <td>596011949</td>\n",
       "      <td>4/12/2020 16:20</td>\n",
       "      <td>I do not recommend</td>\n",
       "      <td>This app has many issues, technical and person...</td>\n",
       "      <td>1</td>\n",
       "    </tr>\n",
       "    <tr>\n",
       "      <th>4</th>\n",
       "      <td>hungerstation</td>\n",
       "      <td>596011949</td>\n",
       "      <td>7/6/2021 12:54</td>\n",
       "      <td>I WANT MY MONY BACK!!</td>\n",
       "      <td>I ordered on the 16th of June and the payment ...</td>\n",
       "      <td>1</td>\n",
       "    </tr>\n",
       "  </tbody>\n",
       "</table>\n",
       "</div>"
      ],
      "text/plain": [
       "        app_name     app_id             date  \\\n",
       "0  hungerstation  596011949  4/24/2020 17:03   \n",
       "1  hungerstation  596011949  9/16/2021 15:29   \n",
       "2  hungerstation  596011949   7/6/2020 18:47   \n",
       "3  hungerstation  596011949  4/12/2020 16:20   \n",
       "4  hungerstation  596011949   7/6/2021 12:54   \n",
       "\n",
       "                              title  \\\n",
       "0                          Good app   \n",
       "1                             Scam!   \n",
       "2  Liars and worst customer service   \n",
       "3                I do not recommend   \n",
       "4             I WANT MY MONY BACK!!   \n",
       "\n",
       "                                              review  rating  \n",
       "0  A very decent app. Does the job pretty well. H...       4  \n",
       "1  I ordered my grocery at 2:15, and the driver w...       1  \n",
       "2  I ordered from wakami on March 8 “woman’s day ...       1  \n",
       "3  This app has many issues, technical and person...       1  \n",
       "4  I ordered on the 16th of June and the payment ...       1  "
      ]
     },
     "execution_count": 26,
     "metadata": {},
     "output_type": "execute_result"
    }
   ],
   "source": [
    "combined_reviews.head()"
   ]
  },
  {
   "cell_type": "code",
   "execution_count": null,
   "metadata": {},
   "outputs": [],
   "source": []
  },
  {
   "cell_type": "code",
   "execution_count": 27,
   "metadata": {},
   "outputs": [
    {
     "data": {
      "text/plain": [
       "10832"
      ]
     },
     "execution_count": 27,
     "metadata": {},
     "output_type": "execute_result"
    }
   ],
   "source": [
    "len(combined_reviews)"
   ]
  },
  {
   "cell_type": "code",
   "execution_count": 33,
   "metadata": {},
   "outputs": [],
   "source": [
    "from pandas import DataFrame\n",
    "\n",
    "combined_df = DataFrame(combined_reviews, columns=['app_name','app_id', 'date', 'title', 'review', 'rating'])\n",
    "combined_df[\"review\"].fillna('', inplace = True) \n",
    "combined_df[\"title\"].fillna('', inplace = True) \n",
    "\n",
    "# print(combined_df)\n"
   ]
  },
  {
   "cell_type": "code",
   "execution_count": 36,
   "metadata": {},
   "outputs": [],
   "source": [
    "table = {\"app_name\": [], \"app_id\": [], \"date\": [], \"title\": [], \"review\": [], \"rating\": []}\n",
    "\n",
    "for x in range(len(combined_df)):\n",
    "    table[\"app_name\"].append(combined_df['app_name'].iloc[x])\n",
    "    table[\"app_id\"].append(combined_df['app_id'].iloc[x])\n",
    "    table[\"date\"].append(combined_df['date'].iloc[x])\n",
    "    table[\"title\"].append(combined_df['title'].iloc[x])\n",
    "    table[\"review\"].append(combined_df['review'].iloc[x])\n",
    "    table[\"rating\"].append(combined_df['rating'].iloc[x])"
   ]
  },
  {
   "cell_type": "code",
   "execution_count": 35,
   "metadata": {},
   "outputs": [
    {
     "data": {
      "text/plain": [
       "10832"
      ]
     },
     "execution_count": 35,
     "metadata": {},
     "output_type": "execute_result"
    }
   ],
   "source": [
    "len(combined_df)"
   ]
  },
  {
   "cell_type": "code",
   "execution_count": 37,
   "metadata": {},
   "outputs": [],
   "source": [
    "df=pd.DataFrame.from_dict(table,orient='index').transpose()\n",
    "df.to_csv('combined_reviews.csv', index = False)"
   ]
  },
  {
   "cell_type": "code",
   "execution_count": null,
   "metadata": {},
   "outputs": [],
   "source": []
  }
 ],
 "metadata": {
  "kernelspec": {
   "display_name": "Python 3",
   "language": "python",
   "name": "python3"
  },
  "language_info": {
   "codemirror_mode": {
    "name": "ipython",
    "version": 3
   },
   "file_extension": ".py",
   "mimetype": "text/x-python",
   "name": "python",
   "nbconvert_exporter": "python",
   "pygments_lexer": "ipython3",
   "version": "3.8.3"
  }
 },
 "nbformat": 4,
 "nbformat_minor": 4
}
