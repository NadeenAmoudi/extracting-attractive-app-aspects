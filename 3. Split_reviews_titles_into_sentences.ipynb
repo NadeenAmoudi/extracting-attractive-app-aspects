{
 "cells": [
  {
   "cell_type": "code",
   "execution_count": 38,
   "metadata": {},
   "outputs": [],
   "source": [
    "import nltk"
   ]
  },
  {
   "cell_type": "code",
   "execution_count": 3,
   "metadata": {},
   "outputs": [
    {
     "name": "stderr",
     "output_type": "stream",
     "text": [
      "[nltk_data] Downloading package punkt to\n",
      "[nltk_data]     C:\\Users\\nadee\\AppData\\Roaming\\nltk_data...\n",
      "[nltk_data]   Unzipping tokenizers\\punkt.zip.\n"
     ]
    },
    {
     "data": {
      "text/plain": [
       "True"
      ]
     },
     "execution_count": 3,
     "metadata": {},
     "output_type": "execute_result"
    }
   ],
   "source": [
    "nltk.download('punkt')"
   ]
  },
  {
   "cell_type": "code",
   "execution_count": 64,
   "metadata": {},
   "outputs": [],
   "source": [
    "import pandas as pd"
   ]
  },
  {
   "cell_type": "code",
   "execution_count": 65,
   "metadata": {},
   "outputs": [],
   "source": [
    "data = pd.read_csv('preprocessing_1.csv') "
   ]
  },
  {
   "cell_type": "code",
   "execution_count": 66,
   "metadata": {},
   "outputs": [
    {
     "data": {
      "text/html": [
       "<div>\n",
       "<style scoped>\n",
       "    .dataframe tbody tr th:only-of-type {\n",
       "        vertical-align: middle;\n",
       "    }\n",
       "\n",
       "    .dataframe tbody tr th {\n",
       "        vertical-align: top;\n",
       "    }\n",
       "\n",
       "    .dataframe thead th {\n",
       "        text-align: right;\n",
       "    }\n",
       "</style>\n",
       "<table border=\"1\" class=\"dataframe\">\n",
       "  <thead>\n",
       "    <tr style=\"text-align: right;\">\n",
       "      <th></th>\n",
       "      <th>r_id</th>\n",
       "      <th>app_name</th>\n",
       "      <th>app_id</th>\n",
       "      <th>date</th>\n",
       "      <th>title</th>\n",
       "      <th>review</th>\n",
       "      <th>rating</th>\n",
       "    </tr>\n",
       "  </thead>\n",
       "  <tbody>\n",
       "    <tr>\n",
       "      <th>0</th>\n",
       "      <td>0</td>\n",
       "      <td>hungerstation</td>\n",
       "      <td>596011949</td>\n",
       "      <td>4/24/2020 17:03</td>\n",
       "      <td>Good app</td>\n",
       "      <td>A very decent app. Does the job pretty well. H...</td>\n",
       "      <td>4</td>\n",
       "    </tr>\n",
       "    <tr>\n",
       "      <th>1</th>\n",
       "      <td>1</td>\n",
       "      <td>hungerstation</td>\n",
       "      <td>596011949</td>\n",
       "      <td>9/16/2021 15:29</td>\n",
       "      <td>Scam!</td>\n",
       "      <td>I ordered my grocery at 2:15, and the driver w...</td>\n",
       "      <td>1</td>\n",
       "    </tr>\n",
       "    <tr>\n",
       "      <th>2</th>\n",
       "      <td>2</td>\n",
       "      <td>hungerstation</td>\n",
       "      <td>596011949</td>\n",
       "      <td>7/6/2020 18:47</td>\n",
       "      <td>Liars and worst customer service</td>\n",
       "      <td>I ordered from wakami on March 8 \"woman's day ...</td>\n",
       "      <td>1</td>\n",
       "    </tr>\n",
       "    <tr>\n",
       "      <th>3</th>\n",
       "      <td>3</td>\n",
       "      <td>hungerstation</td>\n",
       "      <td>596011949</td>\n",
       "      <td>4/12/2020 16:20</td>\n",
       "      <td>I do not recommend</td>\n",
       "      <td>This app has many issues, technical and person...</td>\n",
       "      <td>1</td>\n",
       "    </tr>\n",
       "    <tr>\n",
       "      <th>4</th>\n",
       "      <td>4</td>\n",
       "      <td>hungerstation</td>\n",
       "      <td>596011949</td>\n",
       "      <td>7/6/2021 12:54</td>\n",
       "      <td>I WANT MY MONY BACK!!</td>\n",
       "      <td>I ordered on the 16th of June and the payment ...</td>\n",
       "      <td>1</td>\n",
       "    </tr>\n",
       "    <tr>\n",
       "      <th>...</th>\n",
       "      <td>...</td>\n",
       "      <td>...</td>\n",
       "      <td>...</td>\n",
       "      <td>...</td>\n",
       "      <td>...</td>\n",
       "      <td>...</td>\n",
       "      <td>...</td>\n",
       "    </tr>\n",
       "    <tr>\n",
       "      <th>10827</th>\n",
       "      <td>10827</td>\n",
       "      <td>theChefz</td>\n",
       "      <td>1139450244</td>\n",
       "      <td>2020-04-26 13:00:47</td>\n",
       "      <td>Bad app</td>\n",
       "      <td>الصراحة من اسواء الابليكشنات اللي نزلتها و كذا...</td>\n",
       "      <td>1</td>\n",
       "    </tr>\n",
       "    <tr>\n",
       "      <th>10828</th>\n",
       "      <td>10828</td>\n",
       "      <td>theChefz</td>\n",
       "      <td>1139450244</td>\n",
       "      <td>2020-04-09 07:02:05</td>\n",
       "      <td>الأسعار!</td>\n",
       "      <td>لم تتم تجربته ولكن اسعار المنتجات بالتطبيقات (...</td>\n",
       "      <td>1</td>\n",
       "    </tr>\n",
       "    <tr>\n",
       "      <th>10829</th>\n",
       "      <td>10829</td>\n",
       "      <td>theChefz</td>\n",
       "      <td>1139450244</td>\n",
       "      <td>2020-03-21 16:36:46</td>\n",
       "      <td>تطبيق مميز</td>\n",
       "      <td>خيارات راقية ومتنوعية من المطاعم ومحلات الحلوي...</td>\n",
       "      <td>5</td>\n",
       "    </tr>\n",
       "    <tr>\n",
       "      <th>10830</th>\n",
       "      <td>10830</td>\n",
       "      <td>theChefz</td>\n",
       "      <td>1139450244</td>\n",
       "      <td>2020-01-26 13:50:40</td>\n",
       "      <td>So bad</td>\n",
       "      <td>تطبيق سيئ وتعاملهم سيئ وكل مافيه سيئ</td>\n",
       "      <td>1</td>\n",
       "    </tr>\n",
       "    <tr>\n",
       "      <th>10831</th>\n",
       "      <td>10831</td>\n",
       "      <td>theChefz</td>\n",
       "      <td>1139450244</td>\n",
       "      <td>2021-10-08 07:43:55</td>\n",
       "      <td>الدمام</td>\n",
       "      <td>اسعار التوصيل اوفر مره</td>\n",
       "      <td>4</td>\n",
       "    </tr>\n",
       "  </tbody>\n",
       "</table>\n",
       "<p>10832 rows × 7 columns</p>\n",
       "</div>"
      ],
      "text/plain": [
       "        r_id       app_name      app_id                 date  \\\n",
       "0          0  hungerstation   596011949      4/24/2020 17:03   \n",
       "1          1  hungerstation   596011949      9/16/2021 15:29   \n",
       "2          2  hungerstation   596011949       7/6/2020 18:47   \n",
       "3          3  hungerstation   596011949      4/12/2020 16:20   \n",
       "4          4  hungerstation   596011949       7/6/2021 12:54   \n",
       "...      ...            ...         ...                  ...   \n",
       "10827  10827       theChefz  1139450244  2020-04-26 13:00:47   \n",
       "10828  10828       theChefz  1139450244  2020-04-09 07:02:05   \n",
       "10829  10829       theChefz  1139450244  2020-03-21 16:36:46   \n",
       "10830  10830       theChefz  1139450244  2020-01-26 13:50:40   \n",
       "10831  10831       theChefz  1139450244  2021-10-08 07:43:55   \n",
       "\n",
       "                                  title  \\\n",
       "0                              Good app   \n",
       "1                                 Scam!   \n",
       "2      Liars and worst customer service   \n",
       "3                    I do not recommend   \n",
       "4                 I WANT MY MONY BACK!!   \n",
       "...                                 ...   \n",
       "10827                           Bad app   \n",
       "10828                          الأسعار!   \n",
       "10829                        تطبيق مميز   \n",
       "10830                            So bad   \n",
       "10831                            الدمام   \n",
       "\n",
       "                                                  review  rating  \n",
       "0      A very decent app. Does the job pretty well. H...       4  \n",
       "1      I ordered my grocery at 2:15, and the driver w...       1  \n",
       "2      I ordered from wakami on March 8 \"woman's day ...       1  \n",
       "3      This app has many issues, technical and person...       1  \n",
       "4      I ordered on the 16th of June and the payment ...       1  \n",
       "...                                                  ...     ...  \n",
       "10827  الصراحة من اسواء الابليكشنات اللي نزلتها و كذا...       1  \n",
       "10828  لم تتم تجربته ولكن اسعار المنتجات بالتطبيقات (...       1  \n",
       "10829  خيارات راقية ومتنوعية من المطاعم ومحلات الحلوي...       5  \n",
       "10830               تطبيق سيئ وتعاملهم سيئ وكل مافيه سيئ       1  \n",
       "10831                             اسعار التوصيل اوفر مره       4  \n",
       "\n",
       "[10832 rows x 7 columns]"
      ]
     },
     "execution_count": 66,
     "metadata": {},
     "output_type": "execute_result"
    }
   ],
   "source": [
    "data"
   ]
  },
  {
   "cell_type": "code",
   "execution_count": 67,
   "metadata": {},
   "outputs": [],
   "source": [
    "df = pd.DataFrame(data, columns=['r_id','app_name','app_id', 'date', 'title', 'review', 'rating'])"
   ]
  },
  {
   "cell_type": "code",
   "execution_count": 45,
   "metadata": {},
   "outputs": [
    {
     "data": {
      "text/html": [
       "<div>\n",
       "<style scoped>\n",
       "    .dataframe tbody tr th:only-of-type {\n",
       "        vertical-align: middle;\n",
       "    }\n",
       "\n",
       "    .dataframe tbody tr th {\n",
       "        vertical-align: top;\n",
       "    }\n",
       "\n",
       "    .dataframe thead th {\n",
       "        text-align: right;\n",
       "    }\n",
       "</style>\n",
       "<table border=\"1\" class=\"dataframe\">\n",
       "  <thead>\n",
       "    <tr style=\"text-align: right;\">\n",
       "      <th></th>\n",
       "      <th>r_id</th>\n",
       "      <th>app_name</th>\n",
       "      <th>app_id</th>\n",
       "      <th>date</th>\n",
       "      <th>title</th>\n",
       "      <th>review</th>\n",
       "      <th>rating</th>\n",
       "    </tr>\n",
       "  </thead>\n",
       "  <tbody>\n",
       "    <tr>\n",
       "      <th>0</th>\n",
       "      <td>0</td>\n",
       "      <td>hungerstation</td>\n",
       "      <td>596011949</td>\n",
       "      <td>4/24/2020 17:03</td>\n",
       "      <td>Good app</td>\n",
       "      <td>A very decent app.</td>\n",
       "      <td>4</td>\n",
       "    </tr>\n",
       "    <tr>\n",
       "      <th>1</th>\n",
       "      <td>0</td>\n",
       "      <td>hungerstation</td>\n",
       "      <td>596011949</td>\n",
       "      <td>4/24/2020 17:03</td>\n",
       "      <td>Good app</td>\n",
       "      <td>Does the job pretty well.</td>\n",
       "      <td>4</td>\n",
       "    </tr>\n",
       "    <tr>\n",
       "      <th>2</th>\n",
       "      <td>0</td>\n",
       "      <td>hungerstation</td>\n",
       "      <td>596011949</td>\n",
       "      <td>4/24/2020 17:03</td>\n",
       "      <td>Good app</td>\n",
       "      <td>Hats off to them for delivering in my area not...</td>\n",
       "      <td>4</td>\n",
       "    </tr>\n",
       "    <tr>\n",
       "      <th>3</th>\n",
       "      <td>0</td>\n",
       "      <td>hungerstation</td>\n",
       "      <td>596011949</td>\n",
       "      <td>4/24/2020 17:03</td>\n",
       "      <td>Good app</td>\n",
       "      <td>The order so far is always accurate however th...</td>\n",
       "      <td>4</td>\n",
       "    </tr>\n",
       "    <tr>\n",
       "      <th>4</th>\n",
       "      <td>0</td>\n",
       "      <td>hungerstation</td>\n",
       "      <td>596011949</td>\n",
       "      <td>4/24/2020 17:03</td>\n",
       "      <td>Good app</td>\n",
       "      <td>I do not use use debit/credit card so now I ca...</td>\n",
       "      <td>4</td>\n",
       "    </tr>\n",
       "    <tr>\n",
       "      <th>...</th>\n",
       "      <td>...</td>\n",
       "      <td>...</td>\n",
       "      <td>...</td>\n",
       "      <td>...</td>\n",
       "      <td>...</td>\n",
       "      <td>...</td>\n",
       "      <td>...</td>\n",
       "    </tr>\n",
       "    <tr>\n",
       "      <th>14614</th>\n",
       "      <td>10827</td>\n",
       "      <td>theChefz</td>\n",
       "      <td>1139450244</td>\n",
       "      <td>2020-04-26 13:00:47</td>\n",
       "      <td>Bad app</td>\n",
       "      <td>الصراحة من اسواء الابليكشنات اللي نزلتها و كذا...</td>\n",
       "      <td>1</td>\n",
       "    </tr>\n",
       "    <tr>\n",
       "      <th>14615</th>\n",
       "      <td>10828</td>\n",
       "      <td>theChefz</td>\n",
       "      <td>1139450244</td>\n",
       "      <td>2020-04-09 07:02:05</td>\n",
       "      <td>الأسعار!</td>\n",
       "      <td>لم تتم تجربته ولكن اسعار المنتجات بالتطبيقات (...</td>\n",
       "      <td>1</td>\n",
       "    </tr>\n",
       "    <tr>\n",
       "      <th>14616</th>\n",
       "      <td>10829</td>\n",
       "      <td>theChefz</td>\n",
       "      <td>1139450244</td>\n",
       "      <td>2020-03-21 16:36:46</td>\n",
       "      <td>تطبيق مميز</td>\n",
       "      <td>خيارات راقية ومتنوعية من المطاعم ومحلات الحلوي...</td>\n",
       "      <td>5</td>\n",
       "    </tr>\n",
       "    <tr>\n",
       "      <th>14617</th>\n",
       "      <td>10830</td>\n",
       "      <td>theChefz</td>\n",
       "      <td>1139450244</td>\n",
       "      <td>2020-01-26 13:50:40</td>\n",
       "      <td>So bad</td>\n",
       "      <td>تطبيق سيئ وتعاملهم سيئ وكل مافيه سيئ</td>\n",
       "      <td>1</td>\n",
       "    </tr>\n",
       "    <tr>\n",
       "      <th>14618</th>\n",
       "      <td>10831</td>\n",
       "      <td>theChefz</td>\n",
       "      <td>1139450244</td>\n",
       "      <td>2021-10-08 07:43:55</td>\n",
       "      <td>الدمام</td>\n",
       "      <td>اسعار التوصيل اوفر مره</td>\n",
       "      <td>4</td>\n",
       "    </tr>\n",
       "  </tbody>\n",
       "</table>\n",
       "<p>14619 rows × 7 columns</p>\n",
       "</div>"
      ],
      "text/plain": [
       "        r_id       app_name      app_id                 date       title  \\\n",
       "0          0  hungerstation   596011949      4/24/2020 17:03    Good app   \n",
       "1          0  hungerstation   596011949      4/24/2020 17:03    Good app   \n",
       "2          0  hungerstation   596011949      4/24/2020 17:03    Good app   \n",
       "3          0  hungerstation   596011949      4/24/2020 17:03    Good app   \n",
       "4          0  hungerstation   596011949      4/24/2020 17:03    Good app   \n",
       "...      ...            ...         ...                  ...         ...   \n",
       "14614  10827       theChefz  1139450244  2020-04-26 13:00:47     Bad app   \n",
       "14615  10828       theChefz  1139450244  2020-04-09 07:02:05    الأسعار!   \n",
       "14616  10829       theChefz  1139450244  2020-03-21 16:36:46  تطبيق مميز   \n",
       "14617  10830       theChefz  1139450244  2020-01-26 13:50:40      So bad   \n",
       "14618  10831       theChefz  1139450244  2021-10-08 07:43:55      الدمام   \n",
       "\n",
       "                                                  review rating  \n",
       "0                                     A very decent app.      4  \n",
       "1                              Does the job pretty well.      4  \n",
       "2      Hats off to them for delivering in my area not...      4  \n",
       "3      The order so far is always accurate however th...      4  \n",
       "4      I do not use use debit/credit card so now I ca...      4  \n",
       "...                                                  ...    ...  \n",
       "14614  الصراحة من اسواء الابليكشنات اللي نزلتها و كذا...      1  \n",
       "14615  لم تتم تجربته ولكن اسعار المنتجات بالتطبيقات (...      1  \n",
       "14616  خيارات راقية ومتنوعية من المطاعم ومحلات الحلوي...      5  \n",
       "14617               تطبيق سيئ وتعاملهم سيئ وكل مافيه سيئ      1  \n",
       "14618                             اسعار التوصيل اوفر مره      4  \n",
       "\n",
       "[14619 rows x 7 columns]"
      ]
     },
     "execution_count": 45,
     "metadata": {},
     "output_type": "execute_result"
    }
   ],
   "source": [
    "df"
   ]
  },
  {
   "cell_type": "code",
   "execution_count": 68,
   "metadata": {},
   "outputs": [],
   "source": [
    "table = {\"r_id\": [], \"app_name\": [], \"app_id\": [], \"date\": [], \"title\": [], \"review\": [], \"rating\": []}\n",
    "\n",
    "# Split each review into sentences\n",
    "for x in range(len(df)):\n",
    "    sentences = nltk.tokenize.sent_tokenize(df['review'][x])\n",
    "    for sentence in sentences:\n",
    "        table[\"r_id\"].append(df['r_id'][x])\n",
    "        table[\"app_name\"].append(df['app_name'][x])\n",
    "        table[\"app_id\"].append(df['app_id'][x])\n",
    "        table[\"date\"].append(df['date'][x])\n",
    "        table[\"title\"].append(df['title'][x])\n",
    "        table[\"review\"].append(sentence)\n",
    "        table[\"rating\"].append(df['rating'][x])"
   ]
  },
  {
   "cell_type": "code",
   "execution_count": 69,
   "metadata": {},
   "outputs": [],
   "source": [
    "df=pd.DataFrame.from_dict(table,orient='index').transpose()\n",
    "df.to_csv('splitted_reviews_into_sentences.csv', index = False)"
   ]
  },
  {
   "cell_type": "code",
   "execution_count": 70,
   "metadata": {},
   "outputs": [],
   "source": [
    "df = pd.DataFrame(data, columns=['r_id','app_name','app_id', 'date', 'title', 'review', 'rating'])"
   ]
  },
  {
   "cell_type": "code",
   "execution_count": 71,
   "metadata": {},
   "outputs": [],
   "source": [
    "data = pd.read_csv('splitted_reviews_into_sentences.csv') \n",
    "df = pd.DataFrame(data, columns=['r_id','app_name','app_id', 'date', 'title', 'review', 'rating'])"
   ]
  },
  {
   "cell_type": "code",
   "execution_count": 72,
   "metadata": {},
   "outputs": [
    {
     "data": {
      "text/plain": [
       "14619"
      ]
     },
     "execution_count": 72,
     "metadata": {},
     "output_type": "execute_result"
    }
   ],
   "source": [
    "len(df)"
   ]
  },
  {
   "cell_type": "code",
   "execution_count": 73,
   "metadata": {},
   "outputs": [
    {
     "ename": "AttributeError",
     "evalue": "'int' object has no attribute 'value'",
     "output_type": "error",
     "traceback": [
      "\u001b[1;31m---------------------------------------------------------------------------\u001b[0m",
      "\u001b[1;31mAttributeError\u001b[0m                            Traceback (most recent call last)",
      "\u001b[1;32m<ipython-input-73-181609363dd8>\u001b[0m in \u001b[0;36m<module>\u001b[1;34m\u001b[0m\n\u001b[0;32m      3\u001b[0m \u001b[0mdf\u001b[0m \u001b[1;33m=\u001b[0m \u001b[0mdf\u001b[0m\u001b[1;33m.\u001b[0m\u001b[0mrename\u001b[0m\u001b[1;33m(\u001b[0m\u001b[0mcolumns\u001b[0m\u001b[1;33m=\u001b[0m\u001b[1;33m{\u001b[0m\u001b[1;34m\"index\"\u001b[0m\u001b[1;33m:\u001b[0m\u001b[1;34m\"s_id\"\u001b[0m\u001b[1;33m}\u001b[0m\u001b[1;33m)\u001b[0m\u001b[1;33m\u001b[0m\u001b[1;33m\u001b[0m\u001b[0m\n\u001b[0;32m      4\u001b[0m \u001b[1;32mfor\u001b[0m \u001b[0mx\u001b[0m \u001b[1;32min\u001b[0m \u001b[0mrange\u001b[0m\u001b[1;33m(\u001b[0m\u001b[0mlen\u001b[0m\u001b[1;33m(\u001b[0m\u001b[0mdf\u001b[0m\u001b[1;33m)\u001b[0m\u001b[1;33m)\u001b[0m\u001b[1;33m:\u001b[0m\u001b[1;33m\u001b[0m\u001b[1;33m\u001b[0m\u001b[0m\n\u001b[1;32m----> 5\u001b[1;33m     \u001b[0mdf\u001b[0m\u001b[1;33m[\u001b[0m\u001b[1;34m's_id'\u001b[0m\u001b[1;33m]\u001b[0m \u001b[1;33m=\u001b[0m \u001b[0mstr\u001b[0m\u001b[1;33m(\u001b[0m\u001b[0mdf\u001b[0m\u001b[1;33m[\u001b[0m\u001b[1;34m'r_id'\u001b[0m\u001b[1;33m]\u001b[0m\u001b[1;33m[\u001b[0m\u001b[0mx\u001b[0m\u001b[1;33m]\u001b[0m\u001b[1;33m)\u001b[0m \u001b[1;33m+\u001b[0m \u001b[0mx\u001b[0m\u001b[1;33m.\u001b[0m\u001b[0mvalue\u001b[0m\u001b[1;33m\u001b[0m\u001b[1;33m\u001b[0m\u001b[0m\n\u001b[0m",
      "\u001b[1;31mAttributeError\u001b[0m: 'int' object has no attribute 'value'"
     ]
    }
   ],
   "source": [
    "# Add sentence ID column\n",
    "df = df.reset_index()\n",
    "df = df.rename(columns={\"index\":\"s_id\"})\n",
    "for x in range(len(df)):\n",
    "    df['s_id'] = str(df['r_id'][x]) + x.value"
   ]
  },
  {
   "cell_type": "code",
   "execution_count": 74,
   "metadata": {},
   "outputs": [
    {
     "data": {
      "text/html": [
       "<div>\n",
       "<style scoped>\n",
       "    .dataframe tbody tr th:only-of-type {\n",
       "        vertical-align: middle;\n",
       "    }\n",
       "\n",
       "    .dataframe tbody tr th {\n",
       "        vertical-align: top;\n",
       "    }\n",
       "\n",
       "    .dataframe thead th {\n",
       "        text-align: right;\n",
       "    }\n",
       "</style>\n",
       "<table border=\"1\" class=\"dataframe\">\n",
       "  <thead>\n",
       "    <tr style=\"text-align: right;\">\n",
       "      <th></th>\n",
       "      <th>s_id</th>\n",
       "      <th>r_id</th>\n",
       "      <th>app_name</th>\n",
       "      <th>app_id</th>\n",
       "      <th>date</th>\n",
       "      <th>title</th>\n",
       "      <th>review</th>\n",
       "      <th>rating</th>\n",
       "    </tr>\n",
       "  </thead>\n",
       "  <tbody>\n",
       "    <tr>\n",
       "      <th>0</th>\n",
       "      <td>0</td>\n",
       "      <td>0</td>\n",
       "      <td>hungerstation</td>\n",
       "      <td>596011949</td>\n",
       "      <td>4/24/2020 17:03</td>\n",
       "      <td>Good app</td>\n",
       "      <td>A very decent app.</td>\n",
       "      <td>4</td>\n",
       "    </tr>\n",
       "    <tr>\n",
       "      <th>1</th>\n",
       "      <td>1</td>\n",
       "      <td>0</td>\n",
       "      <td>hungerstation</td>\n",
       "      <td>596011949</td>\n",
       "      <td>4/24/2020 17:03</td>\n",
       "      <td>Good app</td>\n",
       "      <td>Does the job pretty well.</td>\n",
       "      <td>4</td>\n",
       "    </tr>\n",
       "    <tr>\n",
       "      <th>2</th>\n",
       "      <td>2</td>\n",
       "      <td>0</td>\n",
       "      <td>hungerstation</td>\n",
       "      <td>596011949</td>\n",
       "      <td>4/24/2020 17:03</td>\n",
       "      <td>Good app</td>\n",
       "      <td>Hats off to them for delivering in my area not...</td>\n",
       "      <td>4</td>\n",
       "    </tr>\n",
       "    <tr>\n",
       "      <th>3</th>\n",
       "      <td>3</td>\n",
       "      <td>0</td>\n",
       "      <td>hungerstation</td>\n",
       "      <td>596011949</td>\n",
       "      <td>4/24/2020 17:03</td>\n",
       "      <td>Good app</td>\n",
       "      <td>The order so far is always accurate however th...</td>\n",
       "      <td>4</td>\n",
       "    </tr>\n",
       "    <tr>\n",
       "      <th>4</th>\n",
       "      <td>4</td>\n",
       "      <td>0</td>\n",
       "      <td>hungerstation</td>\n",
       "      <td>596011949</td>\n",
       "      <td>4/24/2020 17:03</td>\n",
       "      <td>Good app</td>\n",
       "      <td>I do not use use debit/credit card so now I ca...</td>\n",
       "      <td>4</td>\n",
       "    </tr>\n",
       "    <tr>\n",
       "      <th>...</th>\n",
       "      <td>...</td>\n",
       "      <td>...</td>\n",
       "      <td>...</td>\n",
       "      <td>...</td>\n",
       "      <td>...</td>\n",
       "      <td>...</td>\n",
       "      <td>...</td>\n",
       "      <td>...</td>\n",
       "    </tr>\n",
       "    <tr>\n",
       "      <th>14614</th>\n",
       "      <td>14614</td>\n",
       "      <td>10827</td>\n",
       "      <td>theChefz</td>\n",
       "      <td>1139450244</td>\n",
       "      <td>2020-04-26 13:00:47</td>\n",
       "      <td>Bad app</td>\n",
       "      <td>الصراحة من اسواء الابليكشنات اللي نزلتها و كذا...</td>\n",
       "      <td>1</td>\n",
       "    </tr>\n",
       "    <tr>\n",
       "      <th>14615</th>\n",
       "      <td>14615</td>\n",
       "      <td>10828</td>\n",
       "      <td>theChefz</td>\n",
       "      <td>1139450244</td>\n",
       "      <td>2020-04-09 07:02:05</td>\n",
       "      <td>الأسعار!</td>\n",
       "      <td>لم تتم تجربته ولكن اسعار المنتجات بالتطبيقات (...</td>\n",
       "      <td>1</td>\n",
       "    </tr>\n",
       "    <tr>\n",
       "      <th>14616</th>\n",
       "      <td>14616</td>\n",
       "      <td>10829</td>\n",
       "      <td>theChefz</td>\n",
       "      <td>1139450244</td>\n",
       "      <td>2020-03-21 16:36:46</td>\n",
       "      <td>تطبيق مميز</td>\n",
       "      <td>خيارات راقية ومتنوعية من المطاعم ومحلات الحلوي...</td>\n",
       "      <td>5</td>\n",
       "    </tr>\n",
       "    <tr>\n",
       "      <th>14617</th>\n",
       "      <td>14617</td>\n",
       "      <td>10830</td>\n",
       "      <td>theChefz</td>\n",
       "      <td>1139450244</td>\n",
       "      <td>2020-01-26 13:50:40</td>\n",
       "      <td>So bad</td>\n",
       "      <td>تطبيق سيئ وتعاملهم سيئ وكل مافيه سيئ</td>\n",
       "      <td>1</td>\n",
       "    </tr>\n",
       "    <tr>\n",
       "      <th>14618</th>\n",
       "      <td>14618</td>\n",
       "      <td>10831</td>\n",
       "      <td>theChefz</td>\n",
       "      <td>1139450244</td>\n",
       "      <td>2021-10-08 07:43:55</td>\n",
       "      <td>الدمام</td>\n",
       "      <td>اسعار التوصيل اوفر مره</td>\n",
       "      <td>4</td>\n",
       "    </tr>\n",
       "  </tbody>\n",
       "</table>\n",
       "<p>14619 rows × 8 columns</p>\n",
       "</div>"
      ],
      "text/plain": [
       "        s_id   r_id       app_name      app_id                 date  \\\n",
       "0          0      0  hungerstation   596011949      4/24/2020 17:03   \n",
       "1          1      0  hungerstation   596011949      4/24/2020 17:03   \n",
       "2          2      0  hungerstation   596011949      4/24/2020 17:03   \n",
       "3          3      0  hungerstation   596011949      4/24/2020 17:03   \n",
       "4          4      0  hungerstation   596011949      4/24/2020 17:03   \n",
       "...      ...    ...            ...         ...                  ...   \n",
       "14614  14614  10827       theChefz  1139450244  2020-04-26 13:00:47   \n",
       "14615  14615  10828       theChefz  1139450244  2020-04-09 07:02:05   \n",
       "14616  14616  10829       theChefz  1139450244  2020-03-21 16:36:46   \n",
       "14617  14617  10830       theChefz  1139450244  2020-01-26 13:50:40   \n",
       "14618  14618  10831       theChefz  1139450244  2021-10-08 07:43:55   \n",
       "\n",
       "            title                                             review  rating  \n",
       "0        Good app                                 A very decent app.       4  \n",
       "1        Good app                          Does the job pretty well.       4  \n",
       "2        Good app  Hats off to them for delivering in my area not...       4  \n",
       "3        Good app  The order so far is always accurate however th...       4  \n",
       "4        Good app  I do not use use debit/credit card so now I ca...       4  \n",
       "...           ...                                                ...     ...  \n",
       "14614     Bad app  الصراحة من اسواء الابليكشنات اللي نزلتها و كذا...       1  \n",
       "14615    الأسعار!  لم تتم تجربته ولكن اسعار المنتجات بالتطبيقات (...       1  \n",
       "14616  تطبيق مميز  خيارات راقية ومتنوعية من المطاعم ومحلات الحلوي...       5  \n",
       "14617      So bad               تطبيق سيئ وتعاملهم سيئ وكل مافيه سيئ       1  \n",
       "14618      الدمام                             اسعار التوصيل اوفر مره       4  \n",
       "\n",
       "[14619 rows x 8 columns]"
      ]
     },
     "execution_count": 74,
     "metadata": {},
     "output_type": "execute_result"
    }
   ],
   "source": [
    "df"
   ]
  },
  {
   "cell_type": "code",
   "execution_count": 75,
   "metadata": {},
   "outputs": [],
   "source": [
    "table = {\"s_id\": [], \"r_id\": [], \"app_name\": [], \"app_id\": [], \"date\": [], \"title\": [], \"review\": [], \"rating\": []}\n",
    "\n",
    "for x in range(len(df)):\n",
    "        table[\"s_id\"].append(df['s_id'][x])\n",
    "        table[\"r_id\"].append(df['r_id'][x])\n",
    "        table[\"app_name\"].append(df['app_name'][x])\n",
    "        table[\"app_id\"].append(df['app_id'][x])\n",
    "        table[\"date\"].append(df['date'][x])\n",
    "        table[\"title\"].append(df['title'][x])\n",
    "        table[\"review\"].append(df['review'][x])\n",
    "        table[\"rating\"].append(df['rating'][x])"
   ]
  },
  {
   "cell_type": "code",
   "execution_count": 77,
   "metadata": {},
   "outputs": [],
   "source": [
    "df=pd.DataFrame.from_dict(table,orient='index').transpose()\n",
    "df.to_csv('splitted_reviews_into_sentences_sID.csv', index = False)"
   ]
  },
  {
   "cell_type": "code",
   "execution_count": 78,
   "metadata": {},
   "outputs": [
    {
     "data": {
      "text/plain": [
       "14619"
      ]
     },
     "execution_count": 78,
     "metadata": {},
     "output_type": "execute_result"
    }
   ],
   "source": [
    "len(df)"
   ]
  },
  {
   "cell_type": "code",
   "execution_count": 55,
   "metadata": {},
   "outputs": [
    {
     "data": {
      "text/plain": [
       "'i got a problem where the driver said that the restaurant did not receive the order. \\n\\ni am rating this a one because no zero\\n\\nalso rating zero because there is no number or quick way to contact the app support to resolve this issue'"
      ]
     },
     "execution_count": 55,
     "metadata": {},
     "output_type": "execute_result"
    }
   ],
   "source": [
    "df['review'][149]"
   ]
  },
  {
   "cell_type": "markdown",
   "metadata": {},
   "source": [
    "# Correct sentences spelling and grammar mistakes"
   ]
  },
  {
   "cell_type": "code",
   "execution_count": 2,
   "metadata": {},
   "outputs": [
    {
     "name": "stdout",
     "output_type": "stream",
     "text": [
      "Requirement already satisfied: gingerit in c:\\users\\nadee\\anaconda3\\lib\\site-packages (0.8.2)\n",
      "Requirement already satisfied: requests<3.0.0,>=2.25.1 in c:\\users\\nadee\\anaconda3\\lib\\site-packages (from gingerit) (2.26.0)\n",
      "Requirement already satisfied: urllib3<1.27,>=1.21.1 in c:\\users\\nadee\\anaconda3\\lib\\site-packages (from requests<3.0.0,>=2.25.1->gingerit) (1.25.9)\n",
      "Requirement already satisfied: charset-normalizer~=2.0.0; python_version >= \"3\" in c:\\users\\nadee\\anaconda3\\lib\\site-packages (from requests<3.0.0,>=2.25.1->gingerit) (2.0.7)\n",
      "Requirement already satisfied: idna<4,>=2.5; python_version >= \"3\" in c:\\users\\nadee\\anaconda3\\lib\\site-packages (from requests<3.0.0,>=2.25.1->gingerit) (2.10)\n",
      "Requirement already satisfied: certifi>=2017.4.17 in c:\\users\\nadee\\anaconda3\\lib\\site-packages (from requests<3.0.0,>=2.25.1->gingerit) (2020.6.20)\n",
      "Note: you may need to restart the kernel to use updated packages.\n"
     ]
    }
   ],
   "source": [
    "pip install gingerit"
   ]
  },
  {
   "cell_type": "code",
   "execution_count": 1,
   "metadata": {},
   "outputs": [],
   "source": [
    "from gingerit.gingerit import GingerIt"
   ]
  },
  {
   "cell_type": "code",
   "execution_count": 15,
   "metadata": {},
   "outputs": [],
   "source": [
    "# text = 'also rating zero because there is no number or quick way contactee app support to resolved this issue'\n",
    "text = 'didnt bother check whatsapp conversation sent'\n"
   ]
  },
  {
   "cell_type": "code",
   "execution_count": 19,
   "metadata": {},
   "outputs": [
    {
     "data": {
      "text/plain": [
       "\"Didn't bother checking WhatsApp conversation sent\""
      ]
     },
     "execution_count": 19,
     "metadata": {},
     "output_type": "execute_result"
    }
   ],
   "source": [
    "parser = GingerIt()\n",
    "parser.parse(text)['result']"
   ]
  }
 ],
 "metadata": {
  "kernelspec": {
   "display_name": "Python 3",
   "language": "python",
   "name": "python3"
  },
  "language_info": {
   "codemirror_mode": {
    "name": "ipython",
    "version": 3
   },
   "file_extension": ".py",
   "mimetype": "text/x-python",
   "name": "python",
   "nbconvert_exporter": "python",
   "pygments_lexer": "ipython3",
   "version": "3.8.3"
  }
 },
 "nbformat": 4,
 "nbformat_minor": 4
}
